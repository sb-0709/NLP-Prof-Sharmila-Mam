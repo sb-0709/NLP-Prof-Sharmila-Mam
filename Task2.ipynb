{
  "cells": [
    {
      "cell_type": "markdown",
      "metadata": {
        "id": "view-in-github",
        "colab_type": "text"
      },
      "source": [
        "<a href=\"https://colab.research.google.com/github/sb-0709/NLP-Prof-Sharmila-Mam/blob/main/Task2.ipynb\" target=\"_parent\"><img src=\"https://colab.research.google.com/assets/colab-badge.svg\" alt=\"Open In Colab\"/></a>"
      ]
    },
    {
      "cell_type": "code",
      "source": [
        "#Topic: Simple Text Classification and Task-Tweet Tokenizer\n",
        "#Date - 13-01-2023"
      ],
      "metadata": {
        "id": "EkzuyVMGkOT8"
      },
      "execution_count": 1,
      "outputs": []
    },
    {
      "cell_type": "code",
      "execution_count": 2,
      "metadata": {
        "id": "MTCyz_JWbUl9"
      },
      "outputs": [],
      "source": [
        "import nltk\n",
        "\n",
        "def gender_features(word):\n",
        "    return {'last_letter':word[-1]}"
      ]
    },
    {
      "cell_type": "code",
      "execution_count": 3,
      "metadata": {
        "id": "4pVbEHoPbZT7",
        "colab": {
          "base_uri": "https://localhost:8080/"
        },
        "outputId": "6d2186fa-fa58-4383-9653-4ac4cc177735"
      },
      "outputs": [
        {
          "output_type": "execute_result",
          "data": {
            "text/plain": [
              "{'last_letter': 'i'}"
            ]
          },
          "metadata": {},
          "execution_count": 3
        }
      ],
      "source": [
        "gender_features('Sanskriti')"
      ]
    },
    {
      "cell_type": "code",
      "execution_count": 6,
      "metadata": {
        "id": "-ceFjDePbvM7"
      },
      "outputs": [],
      "source": [
        "import nltk\n",
        "from nltk.corpus import names"
      ]
    },
    {
      "cell_type": "code",
      "source": [
        "nltk.download('names')"
      ],
      "metadata": {
        "colab": {
          "base_uri": "https://localhost:8080/"
        },
        "id": "XdFWYsAjkqu3",
        "outputId": "4d751764-8c4f-47f8-d1b3-55f48d237d31"
      },
      "execution_count": 7,
      "outputs": [
        {
          "output_type": "stream",
          "name": "stderr",
          "text": [
            "[nltk_data] Downloading package names to /root/nltk_data...\n",
            "[nltk_data]   Unzipping corpora/names.zip.\n"
          ]
        },
        {
          "output_type": "execute_result",
          "data": {
            "text/plain": [
              "True"
            ]
          },
          "metadata": {},
          "execution_count": 7
        }
      ]
    },
    {
      "cell_type": "code",
      "source": [
        "labeled_names = ([(name, 'male') for name in names.words('male.txt')] + [(name, 'female') for name in names.words('female.txt')])"
      ],
      "metadata": {
        "id": "u6Ss_Gbikf6Q"
      },
      "execution_count": 8,
      "outputs": []
    },
    {
      "cell_type": "code",
      "source": [
        "import random\n",
        "random.shuffle(labeled_names)"
      ],
      "metadata": {
        "id": "hn9T05XwkmxW"
      },
      "execution_count": 9,
      "outputs": []
    },
    {
      "cell_type": "code",
      "source": [
        "featuresets = [(gender_features(n),gender) for (n, gender) in labeled_names]"
      ],
      "metadata": {
        "id": "cSfLj7fJkxhi"
      },
      "execution_count": 10,
      "outputs": []
    },
    {
      "cell_type": "code",
      "source": [
        "train_set, test_set = featuresets[500:], featuresets[:500]"
      ],
      "metadata": {
        "id": "ZA8aB4x_kzk3"
      },
      "execution_count": 11,
      "outputs": []
    },
    {
      "cell_type": "code",
      "source": [
        "classifier = nltk.NaiveBayesClassifier.train(train_set)"
      ],
      "metadata": {
        "id": "ZaE7fqEDk2LG"
      },
      "execution_count": 12,
      "outputs": []
    },
    {
      "cell_type": "code",
      "source": [
        "classifier.classify(gender_features('David'))"
      ],
      "metadata": {
        "colab": {
          "base_uri": "https://localhost:8080/",
          "height": 35
        },
        "id": "T6vcedShk4Ub",
        "outputId": "a4c810e2-39d7-4e46-93dd-4dc2f58ac57f"
      },
      "execution_count": 13,
      "outputs": [
        {
          "output_type": "execute_result",
          "data": {
            "text/plain": [
              "'male'"
            ],
            "application/vnd.google.colaboratory.intrinsic+json": {
              "type": "string"
            }
          },
          "metadata": {},
          "execution_count": 13
        }
      ]
    },
    {
      "cell_type": "code",
      "source": [
        "classifier.classify(gender_features('Sanskriti'))"
      ],
      "metadata": {
        "colab": {
          "base_uri": "https://localhost:8080/",
          "height": 35
        },
        "id": "-oM4p0_Ck6PD",
        "outputId": "44a857f4-128c-4934-fd33-780471ba6294"
      },
      "execution_count": 14,
      "outputs": [
        {
          "output_type": "execute_result",
          "data": {
            "text/plain": [
              "'female'"
            ],
            "application/vnd.google.colaboratory.intrinsic+json": {
              "type": "string"
            }
          },
          "metadata": {},
          "execution_count": 14
        }
      ]
    },
    {
      "cell_type": "code",
      "source": [
        "print(nltk.classify.accuracy(classifier,test_set))"
      ],
      "metadata": {
        "colab": {
          "base_uri": "https://localhost:8080/"
        },
        "id": "sJ_-iPlFk8mT",
        "outputId": "7091a41d-6d39-4a21-9a3b-fbb775f4a710"
      },
      "execution_count": 15,
      "outputs": [
        {
          "output_type": "stream",
          "name": "stdout",
          "text": [
            "0.75\n"
          ]
        }
      ]
    },
    {
      "cell_type": "code",
      "source": [
        "#Task2 - Tweet Tokenizer"
      ],
      "metadata": {
        "id": "iO4J1hAek_Wn"
      },
      "execution_count": 16,
      "outputs": []
    },
    {
      "cell_type": "code",
      "source": [
        "from nltk.tokenize import TweetTokenizer\n",
        "text = 'The Party was soooo fun 😀 #superfun'\n",
        "twtkn = TweetTokenizer()\n",
        "twtkn.tokenize(text)"
      ],
      "metadata": {
        "colab": {
          "base_uri": "https://localhost:8080/"
        },
        "id": "i7li7z2KlB8L",
        "outputId": "bd6bf3d2-fa15-4543-88d3-e6c93a50708a"
      },
      "execution_count": 17,
      "outputs": [
        {
          "output_type": "execute_result",
          "data": {
            "text/plain": [
              "['The', 'Party', 'was', 'soooo', 'fun', '😀', '#superfun']"
            ]
          },
          "metadata": {},
          "execution_count": 17
        }
      ]
    },
    {
      "cell_type": "code",
      "source": [
        "from nltk.tokenize import TweetTokenizer\n",
        "text = 'Heyy 😄 I 🥳 am 🥰 Sanskriti 🥵'\n",
        "twtkn = TweetTokenizer()\n",
        "twtkn.tokenize(text)"
      ],
      "metadata": {
        "colab": {
          "base_uri": "https://localhost:8080/"
        },
        "id": "l2YK6WVvlEUv",
        "outputId": "cf9d7066-b931-4f5c-8474-17d1c9be888b"
      },
      "execution_count": 18,
      "outputs": [
        {
          "output_type": "execute_result",
          "data": {
            "text/plain": [
              "['Heyy', '😄', 'I', '🥳', 'am', '🥰', 'Sanskriti', '🥵']"
            ]
          },
          "metadata": {},
          "execution_count": 18
        }
      ]
    },
    {
      "cell_type": "code",
      "source": [],
      "metadata": {
        "id": "eonUI47YlJ7L"
      },
      "execution_count": null,
      "outputs": []
    }
  ],
  "metadata": {
    "colab": {
      "provenance": [],
      "authorship_tag": "ABX9TyO/pQOpvAUrvuQoULMoOkUd",
      "include_colab_link": true
    },
    "kernelspec": {
      "display_name": "Python 3",
      "name": "python3"
    },
    "language_info": {
      "name": "python"
    }
  },
  "nbformat": 4,
  "nbformat_minor": 0
}