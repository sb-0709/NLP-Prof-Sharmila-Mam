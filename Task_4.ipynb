{
  "nbformat": 4,
  "nbformat_minor": 0,
  "metadata": {
    "colab": {
      "provenance": [],
      "authorship_tag": "ABX9TyOy0ppQ9zyPWdbhc/qrt+S8",
      "include_colab_link": true
    },
    "kernelspec": {
      "name": "python3",
      "display_name": "Python 3"
    },
    "language_info": {
      "name": "python"
    }
  },
  "cells": [
    {
      "cell_type": "markdown",
      "metadata": {
        "id": "view-in-github",
        "colab_type": "text"
      },
      "source": [
        "<a href=\"https://colab.research.google.com/github/sb-0709/NLP-Prof-Sharmila-Mam/blob/main/Task_4.ipynb\" target=\"_parent\"><img src=\"https://colab.research.google.com/assets/colab-badge.svg\" alt=\"Open In Colab\"/></a>"
      ]
    },
    {
      "cell_type": "code",
      "execution_count": null,
      "metadata": {
        "id": "t9aWxWKvg-Er"
      },
      "outputs": [],
      "source": [
        "from sklearn.feature_extraction.text import CountVectorizer\n",
        "vect = CountVectorizer(binary = True)"
      ]
    },
    {
      "cell_type": "code",
      "source": [
        "corpus = [\"I have a German Shephard\", \"German Shephard is from Germany\", \"Germans love gossiping\"]"
      ],
      "metadata": {
        "id": "itYpx9MhjC2B"
      },
      "execution_count": null,
      "outputs": []
    },
    {
      "cell_type": "code",
      "source": [
        "vect.fit(corpus)"
      ],
      "metadata": {
        "colab": {
          "base_uri": "https://localhost:8080/"
        },
        "id": "Z5AqIU0Vjd6H",
        "outputId": "ffbb4407-b1c4-47ea-c83a-e785625cbb69"
      },
      "execution_count": null,
      "outputs": [
        {
          "output_type": "execute_result",
          "data": {
            "text/plain": [
              "CountVectorizer(binary=True)"
            ]
          },
          "metadata": {},
          "execution_count": 4
        }
      ]
    },
    {
      "cell_type": "code",
      "source": [
        "vocab = vect.vocabulary_"
      ],
      "metadata": {
        "id": "z2-rIaMGjl72"
      },
      "execution_count": null,
      "outputs": []
    },
    {
      "cell_type": "code",
      "source": [
        "for key in vocab.keys():\n",
        "  print(\"{}:{}\".format(key,vocab[key]))"
      ],
      "metadata": {
        "colab": {
          "base_uri": "https://localhost:8080/"
        },
        "id": "MY4X7XXijq6C",
        "outputId": "2dd1976f-4084-47dc-b19c-3938fcffea71"
      },
      "execution_count": null,
      "outputs": [
        {
          "output_type": "stream",
          "name": "stdout",
          "text": [
            "have:5\n",
            "german:1\n",
            "shephard:8\n",
            "is:6\n",
            "from:0\n",
            "germany:3\n",
            "germans:2\n",
            "love:7\n",
            "gossiping:4\n"
          ]
        }
      ]
    },
    {
      "cell_type": "code",
      "source": [
        "print(vect.transform([\"Germany has German Shephard\"]).toarray()) #transforming a sentence into a vector"
      ],
      "metadata": {
        "colab": {
          "base_uri": "https://localhost:8080/"
        },
        "id": "atjb1OgOj-XJ",
        "outputId": "221b8910-cb44-470f-9521-2b08ada0f639"
      },
      "execution_count": null,
      "outputs": [
        {
          "output_type": "stream",
          "name": "stdout",
          "text": [
            "[[0 1 0 1 0 0 0 0 1]]\n"
          ]
        }
      ]
    },
    {
      "cell_type": "code",
      "source": [
        "#cosine similarity - cosine of the angle between two input vectors or documents\n",
        "from sklearn.metrics.pairwise import cosine_similarity\n",
        "similarity = cosine_similarity(vect.transform([\"Germany has German Shephard\"]).toarray(), vect.transform([\"Germany has Berlin as its capital\"]).toarray())"
      ],
      "metadata": {
        "id": "l43aLlz5kez8"
      },
      "execution_count": null,
      "outputs": []
    },
    {
      "cell_type": "code",
      "source": [
        "print(similarity)"
      ],
      "metadata": {
        "colab": {
          "base_uri": "https://localhost:8080/"
        },
        "id": "Gm4DGCEflf3i",
        "outputId": "d8a0c6be-352e-4bf0-c162-e23d73b9132a"
      },
      "execution_count": null,
      "outputs": [
        {
          "output_type": "stream",
          "name": "stdout",
          "text": [
            "[[0.57735027]]\n"
          ]
        }
      ]
    },
    {
      "cell_type": "code",
      "source": [
        "#problem = make a corpus of 3 to 4 articles of any writer, vectorize it (1 para of each article to be taken)\n",
        "#find the similarity bw last and second last article\n",
        "#if similarity is less tha 50% then the articles are diffrent and he is still a creative writer\n",
        "#(Monday 6am)\n",
        "#send the link and screenshot on teams"
      ],
      "metadata": {
        "id": "adJ7EO9OlkxI"
      },
      "execution_count": null,
      "outputs": []
    }
  ]
}