{
  "nbformat": 4,
  "nbformat_minor": 0,
  "metadata": {
    "colab": {
      "provenance": [],
      "authorship_tag": "ABX9TyN9OvWPm4tAzDmfQ3d+Gt/q",
      "include_colab_link": true
    },
    "kernelspec": {
      "name": "python3",
      "display_name": "Python 3"
    },
    "language_info": {
      "name": "python"
    }
  },
  "cells": [
    {
      "cell_type": "markdown",
      "metadata": {
        "id": "view-in-github",
        "colab_type": "text"
      },
      "source": [
        "<a href=\"https://colab.research.google.com/github/sb-0709/NLP-Prof-Sharmila-Mam/blob/main/Problem_Task_4.ipynb\" target=\"_parent\"><img src=\"https://colab.research.google.com/assets/colab-badge.svg\" alt=\"Open In Colab\"/></a>"
      ]
    },
    {
      "cell_type": "code",
      "execution_count": null,
      "metadata": {
        "id": "_Vp5H2GHpuLy"
      },
      "outputs": [],
      "source": [
        "from sklearn.feature_extraction.text import CountVectorizer\n",
        "vect = CountVectorizer(binary = True)"
      ]
    },
    {
      "cell_type": "code",
      "source": [
        "article_corpus = [\"As far as “shires” go, Shropshire in the West Midlands is one of those places in the UK which, generally speaking, wouldn’t manage to generate the tiniest blip on the country’s touristic radar. Over the last eight years or so, however, the sleepy village of Wroxeter within the shire has been drumming up some serious buzz. All thanks to the Church of St Andrew’s, which sits at its very centre.\",\n",
        "                  \"Over the last few years, as a food writer and restaurant reviewer, I’ve come to accept an immutable fact that nothing is sacrosanct when it comes to saving a few bucks and another valuable kitchen commodity—time. A vicious cycle involving canny manufacturers influencing lazy chefs, and bottom line-greedy restaurateurs at the apex. Who in turn hoodwink their diners with ersatz products and subpar dishes. The prices of which the diner wants as low as possible. Quality and more importantly safety of ingredients be damned.\"]"
      ],
      "metadata": {
        "id": "jzwvtJurpvVd"
      },
      "execution_count": null,
      "outputs": []
    },
    {
      "cell_type": "code",
      "source": [
        "vect.fit(article_corpus)"
      ],
      "metadata": {
        "colab": {
          "base_uri": "https://localhost:8080/"
        },
        "id": "-teYtXU6p-H7",
        "outputId": "898abb6a-9c21-4fb6-a3a7-e06af3078be9"
      },
      "execution_count": null,
      "outputs": [
        {
          "output_type": "execute_result",
          "data": {
            "text/plain": [
              "CountVectorizer(binary=True)"
            ]
          },
          "metadata": {},
          "execution_count": 3
        }
      ]
    },
    {
      "cell_type": "code",
      "source": [
        "vocab = vect.vocabulary_"
      ],
      "metadata": {
        "id": "WPt1QkmAqBlp"
      },
      "execution_count": null,
      "outputs": []
    },
    {
      "cell_type": "code",
      "source": [
        "for key in vocab.keys():\n",
        "  print(\"{}:{}\".format(key,vocab[key]))"
      ],
      "metadata": {
        "colab": {
          "base_uri": "https://localhost:8080/"
        },
        "id": "yc4gDfs1qDk2",
        "outputId": "c78e6929-c407-45b3-adf1-6afcc451a333"
      },
      "execution_count": null,
      "outputs": [
        {
          "output_type": "stream",
          "name": "stdout",
          "text": [
            "as:7\n",
            "far:32\n",
            "shires:80\n",
            "go:37\n",
            "shropshire:81\n",
            "in:44\n",
            "the:91\n",
            "west:107\n",
            "midlands:58\n",
            "is:48\n",
            "one:63\n",
            "of:61\n",
            "those:93\n",
            "places:66\n",
            "uk:99\n",
            "which:109\n",
            "generally:35\n",
            "speaking:86\n",
            "wouldn:113\n",
            "manage:56\n",
            "to:96\n",
            "generate:36\n",
            "tiniest:95\n",
            "blip:11\n",
            "on:62\n",
            "country:22\n",
            "touristic:97\n",
            "radar:71\n",
            "over:65\n",
            "last:52\n",
            "eight:29\n",
            "years:116\n",
            "or:64\n",
            "so:84\n",
            "however:41\n",
            "sleepy:83\n",
            "village:105\n",
            "wroxeter:115\n",
            "within:112\n",
            "shire:79\n",
            "has:39\n",
            "been:10\n",
            "drumming:28\n",
            "up:100\n",
            "some:85\n",
            "serious:78\n",
            "buzz:14\n",
            "all:1\n",
            "thanks:89\n",
            "church:18\n",
            "st:87\n",
            "andrew:4\n",
            "sits:82\n",
            "at:8\n",
            "its:50\n",
            "very:103\n",
            "centre:16\n",
            "few:33\n",
            "food:34\n",
            "writer:114\n",
            "and:3\n",
            "restaurant:72\n",
            "reviewer:74\n",
            "ve:102\n",
            "come:19\n",
            "accept:0\n",
            "an:2\n",
            "immutable:42\n",
            "fact:31\n",
            "that:90\n",
            "nothing:60\n",
            "sacrosanct:75\n",
            "when:108\n",
            "it:49\n",
            "comes:20\n",
            "saving:77\n",
            "bucks:13\n",
            "another:5\n",
            "valuable:101\n",
            "kitchen:51\n",
            "commodity:21\n",
            "time:94\n",
            "vicious:104\n",
            "cycle:23\n",
            "involving:47\n",
            "canny:15\n",
            "manufacturers:57\n",
            "influencing:45\n",
            "lazy:53\n",
            "chefs:17\n",
            "bottom:12\n",
            "line:54\n",
            "greedy:38\n",
            "restaurateurs:73\n",
            "apex:6\n",
            "who:110\n",
            "turn:98\n",
            "hoodwink:40\n",
            "their:92\n",
            "diners:26\n",
            "with:111\n",
            "ersatz:30\n",
            "products:69\n",
            "subpar:88\n",
            "dishes:27\n",
            "prices:68\n",
            "diner:25\n",
            "wants:106\n",
            "low:55\n",
            "possible:67\n",
            "quality:70\n",
            "more:59\n",
            "importantly:43\n",
            "safety:76\n",
            "ingredients:46\n",
            "be:9\n",
            "damned:24\n"
          ]
        }
      ]
    },
    {
      "cell_type": "code",
      "source": [
        "from sklearn.metrics.pairwise import cosine_similarity\n",
        "similarity = cosine_similarity(vect.transform([\"As far as “shires” go, Shropshire in the West Midlands is one of those places in the UK which, generally speaking, wouldn’t manage to generate the tiniest blip on the country’s touristic radar. Over the last eight years or so, however, the sleepy village of Wroxeter within the shire has been drumming up some serious buzz. All thanks to the Church of St Andrew’s, which sits at its very centre.\"]).toarray(), vect.transform([\"Over the last few years, as a food writer and restaurant reviewer, I’ve come to accept an immutable fact that nothing is sacrosanct when it comes to saving a few bucks and another valuable kitchen commodity—time. A vicious cycle involving canny manufacturers influencing lazy chefs, and bottom line-greedy restaurateurs at the apex. Who in turn hoodwink their diners with ersatz products and subpar dishes. The prices of which the diner wants as low as possible. Quality and more importantly safety of ingredients be damned.\"]).toarray())"
      ],
      "metadata": {
        "id": "OiguLCMHqFXG"
      },
      "execution_count": null,
      "outputs": []
    },
    {
      "cell_type": "code",
      "source": [
        "print(similarity)"
      ],
      "metadata": {
        "colab": {
          "base_uri": "https://localhost:8080/"
        },
        "id": "6ul8a4LHqX2y",
        "outputId": "5cf6a82e-e85c-42dc-c4d4-788a3fc76f16"
      },
      "execution_count": null,
      "outputs": [
        {
          "output_type": "stream",
          "name": "stdout",
          "text": [
            "[[0.17291238]]\n"
          ]
        }
      ]
    },
    {
      "cell_type": "code",
      "source": [],
      "metadata": {
        "id": "N26CjQYKqcwa"
      },
      "execution_count": null,
      "outputs": []
    }
  ]
}